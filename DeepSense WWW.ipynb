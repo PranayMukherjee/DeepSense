{
 "cells": [
  {
   "cell_type": "code",
   "execution_count": 8,
   "metadata": {},
   "outputs": [],
   "source": [
    "import keras\n",
    "from keras.layers import Conv2D,Input,Reshape,GRU,concatenate,Flatten,Average,Add\n",
    "from keras.models import  Model\n",
    "import numpy as np\n",
    "\n",
    "number_of_sensors=5\n",
    "sensor_dimension=10\n",
    "number_of_time_windows=8\n",
    "\n",
    "\n",
    "sample_sensor_measurement_1=np.random.random((sensor_dimension,30,8))\n",
    "sample_sensor_measurement_2=np.random.random((sensor_dimension,30,8))\n",
    "sample_sensor_measurement_3=np.random.random((sensor_dimension,30,8))\n",
    "sample_sensor_measurement_4=np.random.random((sensor_dimension,30,8))\n",
    "sample_sensor_measurement_5=np.random.random((sensor_dimension,30,8))\n",
    "\n",
    "output_list=[]\n",
    "inputs_list=[]\n",
    "window_output_list=[]\n",
    "total_inputs=[]\n",
    "\n",
    "for window_num in range(number_of_time_windows):\n",
    "    for i in range(number_of_sensors):\n",
    "        input_layer_1=Input(shape=(sensor_dimension,30,1))\n",
    "        inputs_list.append(input_layer_1)\n",
    "        layer_A_1 =Conv2D(64,(sensor_dimension,3),padding='valid',activation='relu',input_shape=(sensor_dimension,30,1))(input_layer_1)\n",
    "        layer_B_1=Conv2D(64,(1,3),padding='valid',activation='relu')(layer_A_1)\n",
    "        output_layer_1=Conv2D(64,(1,3),padding='valid',activation='relu')(layer_B_1)\n",
    "        flatten_layer_1=Flatten()(output_layer_1)\n",
    "        output_list.append(flatten_layer_1)\n",
    "    layer_merged=concatenate(output_list,axis=1)\n",
    "    layer=Reshape((5,1536,1))(layer_merged)\n",
    "    layer_1=Conv2D(64,(number_of_sensors,3),padding='valid',activation='relu',input_shape=(5,1536,1))(layer)\n",
    "    layer_2=Conv2D(64,(1,3),padding='valid',activation='relu')(layer_1)\n",
    "    layer_3=Conv2D(64,(1,3),padding='valid',activation='relu')(layer_2)\n",
    "    layer_window_final=Flatten()(layer_3)\n",
    "    window_output_list.append(layer_window_final)\n",
    "    model_for_window=Model(inputs=inputs_list,outputs=layer_window_final)\n",
    "    total_inputs+=inputs_list\n",
    "    inputs_list=[]\n",
    "    output_list=[]\n",
    "input_to_recurrent=concatenate(window_output_list,axis=1)\n",
    "window_merged=Reshape((number_of_time_windows,97920))(input_to_recurrent)\n",
    "recurrent_1=GRU(units=number_of_time_windows,activation='relu',recurrent_activation='relu',input_shape=(number_of_time_windows,97920),return_sequences=True,unroll=True)(window_merged)\n",
    "recurrent_2=GRU(units=number_of_time_windows,activation='relu',recurrent_activation='relu',return_sequences=True,unroll=True)(recurrent_1)\n",
    "layer_reshape=Reshape(target_shape=(number_of_time_windows,8))(recurrent_2)\n",
    "layer_average=Average()(l)\n",
    "#model_=Model(inputs=total_inputs,output=layer_average)\n",
    " \n",
    "    \n",
    "\n",
    "\n",
    "    \n",
    "\n"
   ]
  },
  {
   "cell_type": "code",
   "execution_count": 9,
   "metadata": {},
   "outputs": [
    {
     "data": {
      "text/plain": [
       "TensorShape([Dimension(None), Dimension(8)])"
      ]
     },
     "execution_count": 9,
     "metadata": {},
     "output_type": "execute_result"
    }
   ],
   "source": [
    "layer_average.shape"
   ]
  },
  {
   "cell_type": "code",
   "execution_count": 5,
   "metadata": {},
   "outputs": [],
   "source": [
    "l=[]\n",
    "for i in range(8):\n",
    "    l.append(recurrent_2[:,i,:])\n",
    "    "
   ]
  },
  {
   "cell_type": "code",
   "execution_count": 12,
   "metadata": {},
   "outputs": [
    {
     "data": {
      "text/plain": [
       "<tf.Tensor 'average_5/truediv:0' shape=(?, 10, 30, 1) dtype=float32>"
      ]
     },
     "execution_count": 12,
     "metadata": {},
     "output_type": "execute_result"
    }
   ],
   "source": []
  },
  {
   "cell_type": "code",
   "execution_count": null,
   "metadata": {
    "collapsed": true
   },
   "outputs": [],
   "source": []
  }
 ],
 "metadata": {
  "kernelspec": {
   "display_name": "Python 3",
   "language": "python",
   "name": "python3"
  },
  "language_info": {
   "codemirror_mode": {
    "name": "ipython",
    "version": 3
   },
   "file_extension": ".py",
   "mimetype": "text/x-python",
   "name": "python",
   "nbconvert_exporter": "python",
   "pygments_lexer": "ipython3",
   "version": "3.6.3"
  }
 },
 "nbformat": 4,
 "nbformat_minor": 2
}
